{
 "cells": [
  {
   "cell_type": "markdown",
   "id": "b2fab78e",
   "metadata": {
    "id": "b2fab78e"
   },
   "source": [
    "# Analyze City of Cleveland Traffic Safety Data \n",
    "\n",
    "### Resources\n",
    "\n",
    "* https://www.dot.state.oh.us/Divisions/Planning/LocalPrograms/LTAP/Documents/OH-1_FINAL.PDF\n",
    "* \n",
    "*"
   ]
  },
  {
   "cell_type": "code",
   "execution_count": 115,
   "id": "8cc870b1",
   "metadata": {
    "executionInfo": {
     "elapsed": 152,
     "status": "ok",
     "timestamp": 1668484657271,
     "user": {
      "displayName": "Maggi Mars",
      "userId": "15664582298795720795"
     },
     "user_tz": 300
    },
    "id": "8cc870b1"
   },
   "outputs": [],
   "source": [
    "import pandas as pd\n",
    "import datetime as dt\n",
    "from scipy.stats import pearsonr\n",
    "from sklearn.linear_model import LinearRegression\n",
    "import seaborn as sns\n",
    "import matplotlib.pyplot as plt\n",
    "from prophet import Prophet\n",
    "\n",
    "\n",
    "%matplotlib inline\n",
    "# set plot theme and palette\n",
    "sns.set_theme()\n",
    "sns.set_palette('colorblind')"
   ]
  },
  {
   "cell_type": "markdown",
   "id": "4c5a1426",
   "metadata": {
    "id": "4c5a1426"
   },
   "source": [
    "## Traffic data exploration"
   ]
  },
  {
   "cell_type": "markdown",
   "id": "347264a9",
   "metadata": {
    "id": "347264a9"
   },
   "source": [
    "### 1. Inspect the traffic safety dataset\n",
    "\n"
   ]
  },
  {
   "cell_type": "code",
   "execution_count": null,
   "id": "ff05693b",
   "metadata": {
    "colab": {
     "base_uri": "https://localhost:8080/",
     "height": 206
    },
    "executionInfo": {
     "elapsed": 222,
     "status": "ok",
     "timestamp": 1668484659648,
     "user": {
      "displayName": "Maggi Mars",
      "userId": "15664582298795720795"
     },
     "user_tz": 300
    },
    "id": "ff05693b",
    "outputId": "64cdedc3-5d4f-4f19-fe71-21b1a3dfc91b",
    "scrolled": true
   },
   "outputs": [],
   "source": [
    "# load dataset\n",
    "traffic = pd.read_csv('traffic.csv',low_memory=False)\n",
    "\n",
    "traffic.head()"
   ]
  },
  {
   "cell_type": "code",
   "execution_count": null,
   "id": "f49ec027",
   "metadata": {},
   "outputs": [],
   "source": [
    "###Mappings\n",
    "\n"
   ]
  },
  {
   "cell_type": "markdown",
   "id": "eb0f26c9",
   "metadata": {},
   "source": [
    "## Distracted Driver Rates"
   ]
  },
  {
   "cell_type": "code",
   "execution_count": null,
   "id": "676a9087",
   "metadata": {},
   "outputs": [],
   "source": [
    "# Count the number of distracted and non-distracted drivers\n",
    "distracted_counts = traffic['DISTRACTED_DRIVER_IND'].value_counts()\n",
    "\n",
    "# Plot bar chart\n",
    "plt.figure(figsize=(8,5))\n",
    "distracted_counts.plot(kind='bar', color=['blue', 'red'])\n",
    "\n",
    "# Add labels and title\n",
    "plt.xlabel(\"Distracted Driving\")\n",
    "plt.ylabel(\"Number of Accidents\")\n",
    "plt.title(\"Number of Distracted vs. Non-Distracted Drivers\")\n",
    "plt.xticks(ticks=[0,1], labels=['Not Distracted', 'Distracted'], rotation=0)\n",
    "\n",
    "# Show the chart\n",
    "plt.show()"
   ]
  },
  {
   "cell_type": "code",
   "execution_count": null,
   "id": "6bd87f5c",
   "metadata": {},
   "outputs": [],
   "source": [
    "\n",
    "# Define severity and weather mappings\n",
    "severity_mapping = {\n",
    "    1: \"Minor\",\n",
    "    2: \"Moderate\",\n",
    "    3: \"Serious\",\n",
    "    4: \"Severe\",\n",
    "    5: \"Fatal\"\n",
    "}\n",
    "\n",
    "\n",
    "\n",
    "# Convert to numeric if necessary\n",
    "traffic['CRASH_SEVERITY_CD'] = pd.to_numeric(traffic['CRASH_SEVERITY_CD'], errors='coerce')\n",
    "\n",
    "# Apply mappings\n",
    "traffic['CRASH_SEVERITY'] = traffic['CRASH_SEVERITY_CD'].map(severity_mapping)\n",
    "\n",
    "# Drop missing values after mapping\n",
    "traffic = traffic.dropna(subset=['CRASH_SEVERITY'])\n",
    "\n",
    "\n",
    "severity_by_distracted = traffic.groupby(['DISTRACTED_DRIVER_IND', 'CRASH_SEVERITY']).size().unstack()\n",
    "\n",
    "# Plot\n",
    "severity_by_distracted.plot(kind=\"bar\", stacked=True, figsize=(10,6))\n",
    "plt.title(\"Crash Severity by Distracted vs. Non-Distracted Drivers\")\n",
    "plt.xlabel(\"Distracted Driving\")\n",
    "plt.ylabel(\"Number of Accidents\")\n",
    "plt.legend(title=\"Crash Severity\")\n",
    "plt.xticks(ticks=[0,1], labels=['Not Distracted', 'Distracted'], rotation=0)\n",
    "plt.show()\n"
   ]
  },
  {
   "cell_type": "code",
   "execution_count": null,
   "id": "9be15a6c",
   "metadata": {},
   "outputs": [],
   "source": [
    "traffic['CRASH_MONTH_YEAR'] = pd.to_datetime(traffic['CRASH_MONTH_YEAR'])\n",
    "traffic['SEASON'] = traffic['CRASH_MONTH_YEAR'].dt.month.map({\n",
    "    12: 'Winter', 1: 'Winter', 2: 'Winter',\n",
    "    3: 'Spring', 4: 'Spring', 5: 'Spring',\n",
    "    6: 'Summer', 7: 'Summer', 8: 'Summer',\n",
    "    9: 'Fall', 10: 'Fall', 11: 'Fall'\n",
    "})\n",
    "\n",
    "season_distracted = traffic.groupby(['SEASON', 'DISTRACTED_DRIVER_IND']).size().unstack()\n",
    "\n",
    "# Plot\n",
    "season_distracted.plot(kind=\"bar\", stacked=True, figsize=(10,6))\n",
    "plt.title(\"Seasonal Trends of Distracted Driving Accidents\")\n",
    "plt.xlabel(\"Season\")\n",
    "plt.ylabel(\"Number of Accidents\")\n",
    "plt.legend(title=\"Distracted Driving\")\n",
    "plt.show()\n"
   ]
  },
  {
   "cell_type": "code",
   "execution_count": null,
   "id": "49534f78",
   "metadata": {},
   "outputs": [],
   "source": [
    "weather_mapping = {\n",
    "\n",
    "1: \"Clear\",\n",
    "2: \"Cloudy\",\n",
    "3: \"Fog\",\n",
    "4: \"Rain\",\n",
    "5: \"Sleet\",\n",
    "6: \"Snow\",\n",
    "7: \"Crosswinds\",\n",
    "8: \"Blowing\",\n",
    "9: \"Freezing\",\n",
    "99: \"Unknown\"\n",
    "\n",
    "\n",
    "}\n",
    "\n",
    "# Convert to numeric if necessary\n",
    "traffic['WEATHER_COND_CD'] = pd.to_numeric(traffic['WEATHER_COND_CD'], errors='coerce')\n",
    "\n",
    "# Apply mappings\n",
    "traffic['WEATHER_CONDITION'] = traffic['WEATHER_COND_CD'].map(weather_mapping)\n",
    "\n",
    "# Drop missing values after mapping\n",
    "traffic = traffic.dropna(subset=['CRASH_SEVERITY'])\n",
    "\n",
    "distracted_weather = traffic.groupby(['WEATHER_CONDITION', 'DISTRACTED_DRIVER_IND']).size().unstack()\n",
    "\n",
    "# Plot\n",
    "distracted_weather.plot(kind=\"bar\", stacked=True, figsize=(12,6))\n",
    "plt.title(\"Distracted Driving by Weather Condition\")\n",
    "plt.xlabel(\"Weather Condition\")\n",
    "plt.ylabel(\"Number of Accidents\")\n",
    "plt.legend(title=\"Distracted Driving\")\n",
    "plt.xticks(rotation=45)\n",
    "plt.show()\n"
   ]
  },
  {
   "cell_type": "code",
   "execution_count": null,
   "id": "33d003b6",
   "metadata": {},
   "outputs": [],
   "source": [
    "import pandas as pd\n",
    "from prophet import Prophet\n",
    "\n",
    "# Convert to datetime\n",
    "traffic['CRASH_MONTH_YEAR'] = pd.to_datetime(traffic['CRASH_MONTH_YEAR'], errors='coerce')\n",
    "\n",
    "# Map distracted driver indicator\n",
    "traffic['DISTRACTED_DRIVER_IND'] = traffic['DISTRACTED_DRIVER_IND'].map({'Y': 1, 'N': 0})\n",
    "\n",
    "# Filter only distracted driving cases\n",
    "distracted_traffic = traffic[traffic['DISTRACTED_DRIVER_IND'] == 1]\n",
    "\n",
    "# Set datetime as the index\n",
    "distracted_traffic = distracted_traffic.set_index('CRASH_MONTH_YEAR')\n",
    "\n",
    "# Resample by month and count occurrences\n",
    "distracted_trend = distracted_traffic.resample('M').size().reset_index()\n",
    "\n",
    "# Rename columns for Prophet\n",
    "distracted_trend.columns = ['ds', 'y']\n",
    "\n",
    "# Drop missing dates in 'ds'\n",
    "distracted_trend = distracted_trend.dropna(subset=['ds'])\n",
    "\n",
    "# Check if the dataset is empty\n",
    "if distracted_trend.empty:\n",
    "    raise ValueError(\"No valid data available for forecasting.\")\n",
    "\n",
    "# Create full date range to ensure no missing months\n",
    "full_dates = pd.date_range(start=distracted_trend['ds'].min(), end=distracted_trend['ds'].max(), freq='M')\n",
    "distracted_trend = pd.DataFrame({'ds': full_dates}).merge(distracted_trend, on='ds', how='left').fillna(0)\n",
    "\n",
    "# Fit the model\n",
    "model = Prophet()\n",
    "model.fit(distracted_trend)\n",
    "\n",
    "# Create a dataframe for future predictions (24 months ahead)\n",
    "future = model.make_future_dataframe(periods=24, freq='M')\n",
    "\n",
    "# Generate predictions\n",
    "forecast = model.predict(future)\n",
    "\n",
    "# Plot results\n",
    "model.plot(forecast)\n",
    "plt.title(\"Predicted Distracted Driving Accidents (2025-2026)\")\n",
    "plt.show()\n",
    "\n"
   ]
  },
  {
   "cell_type": "markdown",
   "id": "c0ff8109",
   "metadata": {},
   "source": [
    "### Crash Rates by Weather Conditions"
   ]
  },
  {
   "cell_type": "code",
   "execution_count": null,
   "id": "b04db509",
   "metadata": {},
   "outputs": [],
   "source": [
    "# Define severity and weather mappings\n",
    "severity_mapping = {\n",
    "    1: \"Minor\",\n",
    "    2: \"Moderate\",\n",
    "    3: \"Serious\",\n",
    "    4: \"Severe\",\n",
    "    5: \"Fatal\"\n",
    "}\n",
    "\n",
    "weather_mapping = {\n",
    "    1: \"Clear\",\n",
    "    2: \"Cloudy\",\n",
    "    3: \"Rain\",\n",
    "    4: \"Snow\",\n",
    "    5: \"Fog/Smoke\",\n",
    "    6: \"Sleet/Hail\",\n",
    "    7: \"Severe Crosswinds\",\n",
    "    8: \"Blowing Sand/Dust\",\n",
    "    9: \"Other\",\n",
    "    99: \"Unknown\"\n",
    "}\n",
    "\n",
    "# Convert to numeric if necessary\n",
    "traffic['WEATHER_COND_CD'] = pd.to_numeric(traffic['WEATHER_COND_CD'], errors='coerce')\n",
    "traffic['CRASH_SEVERITY_CD'] = pd.to_numeric(traffic['CRASH_SEVERITY_CD'], errors='coerce')\n",
    "\n",
    "# Apply mappings\n",
    "traffic['WEATHER_CONDITION'] = traffic['WEATHER_COND_CD'].map(weather_mapping)\n",
    "traffic['CRASH_SEVERITY'] = traffic['CRASH_SEVERITY_CD'].map(severity_mapping)\n",
    "\n",
    "# Drop missing values after mapping\n",
    "traffic = traffic.dropna(subset=['WEATHER_CONDITION', 'CRASH_SEVERITY'])\n",
    "\n",
    "# Group by Weather Condition and Severity\n",
    "severity_by_weather = traffic.groupby(['WEATHER_CONDITION', 'CRASH_SEVERITY']).size().unstack(fill_value=0)\n",
    "\n",
    "# Debugging: Check if data exists\n",
    "print(severity_by_weather)\n",
    "\n",
    "# Plot the results\n",
    "severity_by_weather.plot(kind=\"bar\", stacked=True, figsize=(12,6))\n",
    "plt.title(\"Accident Severity by Weather Condition\")\n",
    "plt.xlabel(\"Weather Condition\")\n",
    "plt.ylabel(\"Number of Accidents\")\n",
    "plt.legend(title=\"Crash Severity\")\n",
    "plt.xticks(rotation=45)\n",
    "plt.show()\n"
   ]
  },
  {
   "cell_type": "code",
   "execution_count": 132,
   "id": "bcff8a2d",
   "metadata": {},
   "outputs": [],
   "source": [
    "from prophet import Prophet\n",
    "import pandas as pd\n",
    "import matplotlib.pyplot as plt\n",
    "\n",
    "# Convert to datetime format\n",
    "traffic['CRASH_MONTH_YEAR'] = pd.to_datetime(traffic['CRASH_MONTH_YEAR'], errors='coerce')\n",
    "\n",
    "# Map months to their corresponding season\n",
    "traffic['SEASON'] = traffic['CRASH_MONTH_YEAR'].dt.month.map({\n",
    "    12: 'Winter', 1: 'Winter', 2: 'Winter',\n",
    "    3: 'Spring', 4: 'Spring', 5: 'Spring',\n",
    "    6: 'Summer', 7: 'Summer', 8: 'Summer',\n",
    "    9: 'Fall', 10: 'Fall', 11: 'Fall'\n",
    "})\n",
    "\n",
    "# Filter only past data (before 2025)\n",
    "past_accidents = traffic[traffic['CRASH_MONTH_YEAR'] < '2025-01-01']\n",
    "\n",
    "# Aggregate accident count per month for summer seasons only\n",
    "summer_accidents = past_accidents[past_accidents['SEASON'] == 'Summer'].groupby('CRASH_MONTH_YEAR').size().reset_index()\n",
    "\n"
   ]
  }
 ],
 "metadata": {
  "colab": {
   "collapsed_sections": [],
   "provenance": []
  },
  "kernelspec": {
   "display_name": "Python 3",
   "language": "python",
   "name": "python3"
  },
  "language_info": {
   "codemirror_mode": {
    "name": "ipython",
    "version": 3
   },
   "file_extension": ".py",
   "mimetype": "text/x-python",
   "name": "python",
   "nbconvert_exporter": "python",
   "pygments_lexer": "ipython3",
   "version": "3.11.1"
  }
 },
 "nbformat": 4,
 "nbformat_minor": 5
}
